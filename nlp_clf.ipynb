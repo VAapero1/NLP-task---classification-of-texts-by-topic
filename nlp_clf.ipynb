{
 "cells": [
  {
   "cell_type": "markdown",
   "metadata": {},
   "source": [
    "# Play"
   ]
  },
  {
   "cell_type": "markdown",
   "metadata": {},
   "source": [
    "## Часть 1"
   ]
  },
  {
   "cell_type": "code",
   "execution_count": 3,
   "metadata": {},
   "outputs": [],
   "source": [
    "# Import base libraries \n",
    "import pandas as pd\n",
    "import numpy as np\n",
    "\n",
    "\n",
    "# Vizualization\n",
    "import matplotlib.pyplot as plt\n",
    "from matplotlib.pyplot import figure\n",
    "import seaborn as sns\n",
    "\n",
    "\n",
    "# Natural language toolkit \n",
    "import nltk\n",
    "from nltk.corpus import stopwords\n",
    "from nltk.stem import WordNetLemmatizer\n",
    "from nltk.tokenize import RegexpTokenizer\n",
    "from wordcloud import WordCloud, STOPWORDS\n",
    "import re\n",
    "import string\n",
    "\n",
    "\n",
    "# Model preprocessing\n",
    "from sklearn.preprocessing import LabelEncoder\n",
    "from sklearn.model_selection import train_test_split\n",
    "from sklearn import metrics\n",
    "from sklearn.metrics import accuracy_score, classification_report, confusion_matrix\n",
    "\n",
    "\n",
    "# Import model\n",
    "from sklearn.pipeline import Pipeline\n",
    "from sklearn.feature_extraction.text import TfidfVectorizer\n",
    "from sklearn.linear_model import SGDClassifier\n",
    "from sklearn.model_selection import GridSearchCV\n",
    "from sklearn.linear_model import LogisticRegression\n",
    "\n",
    "\n",
    "# Deep learning libraries\n",
    "from torch.optim import Adam\n",
    "from torch import nn\n",
    "from torch.nn import functional as F\n",
    "from torch.utils.data import DataLoader, TensorDataset\n",
    "import torch.nn as nn\n",
    "import torch\n",
    "\n",
    "\n",
    "# Progress bar\n",
    "from tqdm import tqdm\n",
    "\n",
    "\n",
    "# Memory Manager\n",
    "import gc\n",
    "\n",
    "\n",
    "# Counter\n",
    "from collections import Counter"
   ]
  },
  {
   "cell_type": "code",
   "execution_count": 2,
   "metadata": {},
   "outputs": [
    {
     "data": {
      "text/html": [
       "<div>\n",
       "<style scoped>\n",
       "    .dataframe tbody tr th:only-of-type {\n",
       "        vertical-align: middle;\n",
       "    }\n",
       "\n",
       "    .dataframe tbody tr th {\n",
       "        vertical-align: top;\n",
       "    }\n",
       "\n",
       "    .dataframe thead th {\n",
       "        text-align: right;\n",
       "    }\n",
       "</style>\n",
       "<table border=\"1\" class=\"dataframe\">\n",
       "  <thead>\n",
       "    <tr style=\"text-align: right;\">\n",
       "      <th></th>\n",
       "      <th>title</th>\n",
       "      <th>text</th>\n",
       "      <th>topic</th>\n",
       "    </tr>\n",
       "  </thead>\n",
       "  <tbody>\n",
       "    <tr>\n",
       "      <th>0</th>\n",
       "      <td>Британцы отмечают двухлетие смерти Дианы</td>\n",
       "      <td>&lt;?xml version=\"1.0\" encoding=\"utf-8\"?&gt;\\n&lt;conve...</td>\n",
       "      <td>Мир</td>\n",
       "    </tr>\n",
       "    <tr>\n",
       "      <th>1</th>\n",
       "      <td>Еще одно землетрясение в Турции: один человек ...</td>\n",
       "      <td>&lt;?xml version=\"1.0\" encoding=\"utf-8\"?&gt;\\n&lt;conve...</td>\n",
       "      <td>Мир</td>\n",
       "    </tr>\n",
       "    <tr>\n",
       "      <th>2</th>\n",
       "      <td>Российские национал-большевики убирают террито...</td>\n",
       "      <td>&lt;?xml version=\"1.0\" encoding=\"utf-8\"?&gt;\\n&lt;conve...</td>\n",
       "      <td>Мир</td>\n",
       "    </tr>\n",
       "    <tr>\n",
       "      <th>3</th>\n",
       "      <td>Киргизия ведет бои на границах с Таджикистаном...</td>\n",
       "      <td>&lt;?xml version=\"1.0\" encoding=\"utf-8\"?&gt;\\n&lt;conve...</td>\n",
       "      <td>Мир</td>\n",
       "    </tr>\n",
       "    <tr>\n",
       "      <th>4</th>\n",
       "      <td>Литва засудила участников переворота 91 года</td>\n",
       "      <td>&lt;?xml version=\"1.0\" encoding=\"utf-8\"?&gt;\\n&lt;conve...</td>\n",
       "      <td>Мир</td>\n",
       "    </tr>\n",
       "    <tr>\n",
       "      <th>...</th>\n",
       "      <td>...</td>\n",
       "      <td>...</td>\n",
       "      <td>...</td>\n",
       "    </tr>\n",
       "    <tr>\n",
       "      <th>432153</th>\n",
       "      <td>Россия предложила Китаю участвовать в судьбе р...</td>\n",
       "      <td>&lt;?xml version=\"1.0\" encoding=\"utf-8\"?&gt;\\n&lt;conve...</td>\n",
       "      <td>Мир</td>\n",
       "    </tr>\n",
       "    <tr>\n",
       "      <th>432154</th>\n",
       "      <td>Моуринью сравнил футболистов с мебелью</td>\n",
       "      <td>&lt;?xml version=\"1.0\" encoding=\"utf-8\"?&gt;\\n&lt;conve...</td>\n",
       "      <td>Спорт</td>\n",
       "    </tr>\n",
       "    <tr>\n",
       "      <th>432155</th>\n",
       "      <td>Путин предостерег от запретов рэп-концертов</td>\n",
       "      <td>&lt;?xml version=\"1.0\" encoding=\"utf-8\"?&gt;\\n&lt;conve...</td>\n",
       "      <td>Культура</td>\n",
       "    </tr>\n",
       "    <tr>\n",
       "      <th>432156</th>\n",
       "      <td>«Желтые жилеты» прорвали кордон полиции под «М...</td>\n",
       "      <td>&lt;?xml version=\"1.0\" encoding=\"utf-8\"?&gt;\\n&lt;conve...</td>\n",
       "      <td>Мир</td>\n",
       "    </tr>\n",
       "    <tr>\n",
       "      <th>432157</th>\n",
       "      <td>Падение горнолыжника на полной скорости попало...</td>\n",
       "      <td>&lt;?xml version=\"1.0\" encoding=\"utf-8\"?&gt;\\n&lt;conve...</td>\n",
       "      <td>Спорт</td>\n",
       "    </tr>\n",
       "  </tbody>\n",
       "</table>\n",
       "<p>432158 rows × 3 columns</p>\n",
       "</div>"
      ],
      "text/plain": [
       "                                                    title  \\\n",
       "0                Британцы отмечают двухлетие смерти Дианы   \n",
       "1       Еще одно землетрясение в Турции: один человек ...   \n",
       "2       Российские национал-большевики убирают террито...   \n",
       "3       Киргизия ведет бои на границах с Таджикистаном...   \n",
       "4            Литва засудила участников переворота 91 года   \n",
       "...                                                   ...   \n",
       "432153  Россия предложила Китаю участвовать в судьбе р...   \n",
       "432154             Моуринью сравнил футболистов с мебелью   \n",
       "432155        Путин предостерег от запретов рэп-концертов   \n",
       "432156  «Желтые жилеты» прорвали кордон полиции под «М...   \n",
       "432157  Падение горнолыжника на полной скорости попало...   \n",
       "\n",
       "                                                     text     topic  \n",
       "0       <?xml version=\"1.0\" encoding=\"utf-8\"?>\\n<conve...       Мир  \n",
       "1       <?xml version=\"1.0\" encoding=\"utf-8\"?>\\n<conve...       Мир  \n",
       "2       <?xml version=\"1.0\" encoding=\"utf-8\"?>\\n<conve...       Мир  \n",
       "3       <?xml version=\"1.0\" encoding=\"utf-8\"?>\\n<conve...       Мир  \n",
       "4       <?xml version=\"1.0\" encoding=\"utf-8\"?>\\n<conve...       Мир  \n",
       "...                                                   ...       ...  \n",
       "432153  <?xml version=\"1.0\" encoding=\"utf-8\"?>\\n<conve...       Мир  \n",
       "432154  <?xml version=\"1.0\" encoding=\"utf-8\"?>\\n<conve...     Спорт  \n",
       "432155  <?xml version=\"1.0\" encoding=\"utf-8\"?>\\n<conve...  Культура  \n",
       "432156  <?xml version=\"1.0\" encoding=\"utf-8\"?>\\n<conve...       Мир  \n",
       "432157  <?xml version=\"1.0\" encoding=\"utf-8\"?>\\n<conve...     Спорт  \n",
       "\n",
       "[432158 rows x 3 columns]"
      ]
     },
     "execution_count": 2,
     "metadata": {},
     "output_type": "execute_result"
    }
   ],
   "source": [
    "#Считываю csv файл\n",
    "df = pd.read_csv('test.csv')\n",
    "df"
   ]
  },
  {
   "cell_type": "markdown",
   "metadata": {},
   "source": [
    "### Сделаем бейслайн, чтобы понять, какой результат можно получить с помощью самых простых подходов."
   ]
  },
  {
   "cell_type": "code",
   "execution_count": 325,
   "metadata": {},
   "outputs": [],
   "source": [
    "# Функция предобработки текста\n",
    "def clean(text):\n",
    "    # Перевод в нижний регистр.\n",
    "    text = text.lower()\n",
    "    # При импортировании DF появились маска.\n",
    "    text = text.replace('<?xml version=\"1.0\" encoding=\"utf-8\"?>\\n<conversion><person>', '', 1) \n",
    "    text = text.replace('</person></conversion>', '', 2)\n",
    "    text = text.replace('\\xa0', ' ', 2)\n",
    "    text = text.replace('\\n', ' ', 2)\n",
    "    # Удаляем ссылки.\n",
    "    text = re.sub(r'www\\S+', \"\", text) \n",
    "    text = re.sub(r\"(https?:\\/\\/)?([\\da-z\\.-]+)\\.([a-z\\.]{2,6})([\\/\\w \\.-]*)\", \"\", text)\n",
    "    # Удаляем упоминания пользователей и хэштеги.\n",
    "    text = re.sub(r'@\\w+','',text) \n",
    "    text = re.sub(r'#\\w+', '', text)\n",
    "    # Удаляем числа и знаки пунктуации.\n",
    "    text = re.sub(r'\\d+', '', text)\n",
    "    text = text.translate(str.maketrans('', '', string.punctuation))\n",
    "    text = re.sub(r'<.*?>','', text)\n",
    "    text = re.sub(r'«*»*:*,*\"*-*','', text) \n",
    "    text = text.strip(' ')\n",
    "    \n",
    "    return text"
   ]
  },
  {
   "cell_type": "code",
   "execution_count": 326,
   "metadata": {},
   "outputs": [],
   "source": [
    "# Преобразую колонку с предобработанным текстом.\n",
    "df[\"text\"] = df[\"text\"].apply(clean)\n",
    "# Титл нам пригодится позже"
   ]
  },
  {
   "cell_type": "code",
   "execution_count": 29,
   "metadata": {},
   "outputs": [
    {
     "data": {
      "text/plain": [
       "['и',\n",
       " 'в',\n",
       " 'во',\n",
       " 'не',\n",
       " 'что',\n",
       " 'он',\n",
       " 'на',\n",
       " 'я',\n",
       " 'с',\n",
       " 'со',\n",
       " 'как',\n",
       " 'а',\n",
       " 'то',\n",
       " 'все',\n",
       " 'она',\n",
       " 'так',\n",
       " 'его',\n",
       " 'но',\n",
       " 'да',\n",
       " 'ты',\n",
       " 'к',\n",
       " 'у',\n",
       " 'же',\n",
       " 'вы',\n",
       " 'за',\n",
       " 'бы',\n",
       " 'по',\n",
       " 'только',\n",
       " 'ее',\n",
       " 'мне',\n",
       " 'было',\n",
       " 'вот',\n",
       " 'от',\n",
       " 'меня',\n",
       " 'еще',\n",
       " 'нет',\n",
       " 'о',\n",
       " 'из',\n",
       " 'ему',\n",
       " 'теперь',\n",
       " 'когда',\n",
       " 'даже',\n",
       " 'ну',\n",
       " 'вдруг',\n",
       " 'ли',\n",
       " 'если',\n",
       " 'уже',\n",
       " 'или',\n",
       " 'ни',\n",
       " 'быть',\n",
       " 'был',\n",
       " 'него',\n",
       " 'до',\n",
       " 'вас',\n",
       " 'нибудь',\n",
       " 'опять',\n",
       " 'уж',\n",
       " 'вам',\n",
       " 'ведь',\n",
       " 'там',\n",
       " 'потом',\n",
       " 'себя',\n",
       " 'ничего',\n",
       " 'ей',\n",
       " 'может',\n",
       " 'они',\n",
       " 'тут',\n",
       " 'где',\n",
       " 'есть',\n",
       " 'надо',\n",
       " 'ней',\n",
       " 'для',\n",
       " 'мы',\n",
       " 'тебя',\n",
       " 'их',\n",
       " 'чем',\n",
       " 'была',\n",
       " 'сам',\n",
       " 'чтоб',\n",
       " 'без',\n",
       " 'будто',\n",
       " 'чего',\n",
       " 'раз',\n",
       " 'тоже',\n",
       " 'себе',\n",
       " 'под',\n",
       " 'будет',\n",
       " 'ж',\n",
       " 'тогда',\n",
       " 'кто',\n",
       " 'этот',\n",
       " 'того',\n",
       " 'потому',\n",
       " 'этого',\n",
       " 'какой',\n",
       " 'совсем',\n",
       " 'ним',\n",
       " 'здесь',\n",
       " 'этом',\n",
       " 'один',\n",
       " 'почти',\n",
       " 'мой',\n",
       " 'тем',\n",
       " 'чтобы',\n",
       " 'нее',\n",
       " 'сейчас',\n",
       " 'были',\n",
       " 'куда',\n",
       " 'зачем',\n",
       " 'всех',\n",
       " 'никогда',\n",
       " 'можно',\n",
       " 'при',\n",
       " 'наконец',\n",
       " 'два',\n",
       " 'об',\n",
       " 'другой',\n",
       " 'хоть',\n",
       " 'после',\n",
       " 'над',\n",
       " 'больше',\n",
       " 'тот',\n",
       " 'через',\n",
       " 'эти',\n",
       " 'нас',\n",
       " 'про',\n",
       " 'всего',\n",
       " 'них',\n",
       " 'какая',\n",
       " 'много',\n",
       " 'разве',\n",
       " 'три',\n",
       " 'эту',\n",
       " 'моя',\n",
       " 'впрочем',\n",
       " 'хорошо',\n",
       " 'свою',\n",
       " 'этой',\n",
       " 'перед',\n",
       " 'иногда',\n",
       " 'лучше',\n",
       " 'чуть',\n",
       " 'том',\n",
       " 'нельзя',\n",
       " 'такой',\n",
       " 'им',\n",
       " 'более',\n",
       " 'всегда',\n",
       " 'конечно',\n",
       " 'всю',\n",
       " 'между']"
      ]
     },
     "execution_count": 29,
     "metadata": {},
     "output_type": "execute_result"
    }
   ],
   "source": [
    "# uncomment\n",
    "stopwords.words('russian')"
   ]
  },
  {
   "cell_type": "code",
   "execution_count": 30,
   "metadata": {},
   "outputs": [],
   "source": [
    "# Create lemmatizer object\n",
    "wn_lemmatizer = WordNetLemmatizer()"
   ]
  },
  {
   "cell_type": "code",
   "execution_count": 31,
   "metadata": {},
   "outputs": [],
   "source": [
    "# Применяем лемматизацию\n",
    "lemmatized_text = []\n",
    "for i in df['text']:\n",
    "    lemmatized_text.append(' '.join([wn_lemmatizer.lemmatize(word) for word in i.split()]))"
   ]
  },
  {
   "cell_type": "code",
   "execution_count": 32,
   "metadata": {},
   "outputs": [],
   "source": [
    "reg_tokenizer = RegexpTokenizer('\\w+')"
   ]
  },
  {
   "cell_type": "code",
   "execution_count": 33,
   "metadata": {},
   "outputs": [
    {
     "data": {
      "text/plain": [
       "[['британцы',\n",
       "  'отмечают',\n",
       "  'сегодня',\n",
       "  'скорбную',\n",
       "  'дату',\n",
       "  'вторуюгодовщину',\n",
       "  'со',\n",
       "  'дня',\n",
       "  'смерти',\n",
       "  'принцессы',\n",
       "  'дианы',\n",
       "  'она',\n",
       "  'погибла',\n",
       "  'вавтомобильной',\n",
       "  'катастрофе',\n",
       "  'в',\n",
       "  'парижском',\n",
       "  'туннеле',\n",
       "  'в',\n",
       "  'ранние',\n",
       "  'утренниечасы',\n",
       "  'августа',\n",
       "  'года',\n",
       "  'с',\n",
       "  'утра',\n",
       "  'к',\n",
       "  'золоченым',\n",
       "  'воротамкенсингтонского',\n",
       "  'дворца',\n",
       "  'где',\n",
       "  'жила',\n",
       "  'диана',\n",
       "  'приходят',\n",
       "  'ее',\n",
       "  'поклонникив',\n",
       "  'чугунные',\n",
       "  'завитки',\n",
       "  'ограды',\n",
       "  'вплетаются',\n",
       "  'сотни',\n",
       "  'букетов',\n",
       "  'людиоставляют',\n",
       "  'дары',\n",
       "  'принцессе',\n",
       "  'коробки',\n",
       "  'конфет',\n",
       "  'плюшевых',\n",
       "  'мишекоткрытки',\n",
       "  'со',\n",
       "  'посвященными',\n",
       "  'ей',\n",
       "  'стихами',\n",
       "  'стенгазеты',\n",
       "  'вчера',\n",
       "  'и',\n",
       "  'сегодня',\n",
       "  'болеетысячи',\n",
       "  'англичан',\n",
       "  'подписали',\n",
       "  'петицию',\n",
       "  'с',\n",
       "  'требованием',\n",
       "  'к',\n",
       "  'властямускорить',\n",
       "  'сооружение',\n",
       "  'мемориала',\n",
       "  'принцессе',\n",
       "  'пока',\n",
       "  'мемориальныйкомитет',\n",
       "  'собирается',\n",
       "  'переоборудовать',\n",
       "  'в',\n",
       "  'ее',\n",
       "  'честь',\n",
       "  'детскую',\n",
       "  'игровуюплощадку',\n",
       "  'которая',\n",
       "  'находится',\n",
       "  'на',\n",
       "  'территории',\n",
       "  'кенсингтонского',\n",
       "  'паркаи',\n",
       "  'создать',\n",
       "  'посвященную',\n",
       "  'ей',\n",
       "  'прогулочную',\n",
       "  'дорожку',\n",
       "  'вдоль',\n",
       "  'похоронного',\n",
       "  'маршрута',\n",
       "  'мемориальный',\n",
       "  'фонд',\n",
       "  'имени',\n",
       "  'принцессы',\n",
       "  'дианы',\n",
       "  'собрал',\n",
       "  'в',\n",
       "  'видепожертвований',\n",
       "  'населения',\n",
       "  'более',\n",
       "  'миллонов',\n",
       "  'фунтов',\n",
       "  'миллионов',\n",
       "  'долларовсредичленов',\n",
       "  'правления',\n",
       "  'фонда',\n",
       "  'нет',\n",
       "  'согласия',\n",
       "  'относительно',\n",
       "  'использованиясредств',\n",
       "  'они',\n",
       "  'заняты',\n",
       "  'не',\n",
       "  'столько',\n",
       "  'помощью',\n",
       "  'больным',\n",
       "  'иобделенным',\n",
       "  'как',\n",
       "  'завещала',\n",
       "  'принцесса',\n",
       "  'сколько',\n",
       "  'в',\n",
       "  'основном',\n",
       "  'судебнойсхваткой',\n",
       "  'за',\n",
       "  'авторские',\n",
       "  'права',\n",
       "  'на',\n",
       "  'ее',\n",
       "  'дианы',\n",
       "  'изображения',\n",
       "  'королевская',\n",
       "  'семья',\n",
       "  'отметит',\n",
       "  'траурную',\n",
       "  'годовщину',\n",
       "  'сдержаннойпоминальной',\n",
       "  'церемонией',\n",
       "  'в',\n",
       "  'шотландском',\n",
       "  'замке',\n",
       "  'балморал',\n",
       "  'где',\n",
       "  'будутприсутствовать',\n",
       "  'сыновья',\n",
       "  'дианы',\n",
       "  'летний',\n",
       "  'вильям',\n",
       "  'и',\n",
       "  'летнийгарри',\n",
       "  'их',\n",
       "  'отец',\n",
       "  'принц',\n",
       "  'чарльз',\n",
       "  'родственники',\n",
       "  'дианы',\n",
       "  'соберутсяотдельно',\n",
       "  'в',\n",
       "  'олторпе',\n",
       "  'поместье',\n",
       "  'ее',\n",
       "  'брата',\n",
       "  'графа',\n",
       "  'чарльза',\n",
       "  'спенсера',\n",
       "  'впоместье',\n",
       "  'создан',\n",
       "  'мемориальный',\n",
       "  'музей',\n",
       "  'дианы',\n",
       "  'который',\n",
       "  'в',\n",
       "  'этом',\n",
       "  'годупосетило',\n",
       "  'тысячи',\n",
       "  'человек',\n",
       "  'ожидается',\n",
       "  'что',\n",
       "  'в',\n",
       "  'ближайшие',\n",
       "  'дни',\n",
       "  'будут',\n",
       "  'оглашеныокончательные',\n",
       "  'результаты',\n",
       "  'расследования',\n",
       "  'аварии',\n",
       "  'в',\n",
       "  'парижебританские',\n",
       "  'газеты',\n",
       "  'уже',\n",
       "  'получили',\n",
       "  'этот',\n",
       "  'документ',\n",
       "  'никаких',\n",
       "  'сенсацийтам',\n",
       "  'нет',\n",
       "  'единственная',\n",
       "  'причина',\n",
       "  'катастрофы',\n",
       "  'опьянение',\n",
       "  'водителя',\n",
       "  'ипревышение',\n",
       "  'скорости',\n",
       "  'пришли',\n",
       "  'к',\n",
       "  'заключению',\n",
       "  'французскиеследователи',\n",
       "  'содержание',\n",
       "  'алкоголя',\n",
       "  'в',\n",
       "  'крови',\n",
       "  'водителя',\n",
       "  'лимузина',\n",
       "  'генри',\n",
       "  'пола',\n",
       "  'в',\n",
       "  'три',\n",
       "  'раза',\n",
       "  'превосходило',\n",
       "  'норму',\n",
       "  'грамма',\n",
       "  'на',\n",
       "  'литр',\n",
       "  'фиат',\n",
       "  'уно',\n",
       "  'якобы',\n",
       "  'послуживший',\n",
       "  'причиной',\n",
       "  'трагедии',\n",
       "  'так',\n",
       "  'и',\n",
       "  'не',\n",
       "  'найден',\n",
       "  'в',\n",
       "  'париже',\n",
       "  'таких',\n",
       "  'автомобилей',\n",
       "  'более',\n",
       "  'сорока',\n",
       "  'тысяч',\n",
       "  'не',\n",
       "  'будет',\n",
       "  'предъявлено',\n",
       "  'никаких',\n",
       "  'обвиненийфотографампапарацци',\n",
       "  'преследовавшим',\n",
       "  'мерседес',\n",
       "  'дианы',\n",
       "  'на',\n",
       "  'мотоциклах',\n",
       "  'письма',\n",
       "  'дианы',\n",
       "  'к',\n",
       "  'бывшему',\n",
       "  'любовникумайору',\n",
       "  'джеймсу',\n",
       "  'хьюитту',\n",
       "  'могут',\n",
       "  'быть',\n",
       "  'вскоре',\n",
       "  'опубликованы',\n",
       "  'отдельной',\n",
       "  'книгой',\n",
       "  'хьюитт',\n",
       "  'нарушил',\n",
       "  'клятву',\n",
       "  'никогда',\n",
       "  'не',\n",
       "  'использовать',\n",
       "  'для',\n",
       "  'печати',\n",
       "  'писем',\n",
       "  'принцессы',\n",
       "  'написанных',\n",
       "  'ею',\n",
       "  'после',\n",
       "  'того',\n",
       "  'как',\n",
       "  'ее',\n",
       "  'брак',\n",
       "  'с',\n",
       "  'принцем',\n",
       "  'чарльзом',\n",
       "  'развалился',\n",
       "  'в',\n",
       "  'письмах',\n",
       "  'королевская',\n",
       "  'семья',\n",
       "  'характеризуется',\n",
       "  'весьма',\n",
       "  'нелицеприятно'],\n",
       " ['подземный',\n",
       "  'толчок',\n",
       "  'силой',\n",
       "  'балла',\n",
       "  'на',\n",
       "  'северозападе',\n",
       "  'турции',\n",
       "  'где',\n",
       "  'августа',\n",
       "  'произошло',\n",
       "  'разрушительноеземлетрясение',\n",
       "  'приведшее',\n",
       "  'к',\n",
       "  'гибели',\n",
       "  'более',\n",
       "  'тысяч',\n",
       "  'человек',\n",
       "  'сегодняв',\n",
       "  'местного',\n",
       "  'времени',\n",
       "  'по',\n",
       "  'московскому',\n",
       "  'времени',\n",
       "  'зафиксирован',\n",
       "  'подземный',\n",
       "  'толчок',\n",
       "  'силой',\n",
       "  'балла',\n",
       "  'по',\n",
       "  'шкале',\n",
       "  'рихтера',\n",
       "  'его',\n",
       "  'эпицентр',\n",
       "  'какпрежде',\n",
       "  'находился',\n",
       "  'в',\n",
       "  'городе',\n",
       "  'измит',\n",
       "  'сообщила',\n",
       "  'сейсмологическая',\n",
       "  'обсерватория',\n",
       "  'босфорского',\n",
       "  'университета',\n",
       "  'новое',\n",
       "  'землетрясение',\n",
       "  'вызвало',\n",
       "  'панику',\n",
       "  'у',\n",
       "  'местных',\n",
       "  'жителей',\n",
       "  'по',\n",
       "  'сообщению',\n",
       "  'ввс',\n",
       "  'погиб',\n",
       "  'один',\n",
       "  'человек',\n",
       "  'и',\n",
       "  'около',\n",
       "  'ранены']]"
      ]
     },
     "execution_count": 33,
     "metadata": {},
     "output_type": "execute_result"
    }
   ],
   "source": [
    "# Применяем токенизация\n",
    "tokenized_text = reg_tokenizer.tokenize_sents(lemmatized_text)\n",
    "tokenized_text[:2]"
   ]
  },
  {
   "cell_type": "code",
   "execution_count": 34,
   "metadata": {},
   "outputs": [],
   "source": [
    "# Стоп-слова надо кэшировать\n",
    "sw = stopwords.words('russian')"
   ]
  },
  {
   "cell_type": "code",
   "execution_count": 35,
   "metadata": {},
   "outputs": [],
   "source": [
    "# Удаление стоп-слов\n",
    "clean_tokenized_text = [] \n",
    "for i, element in enumerate(tokenized_text):\n",
    "    clean_tokenized_text.append(' '.join([word for word in element if word not in sw]))"
   ]
  },
  {
   "cell_type": "code",
   "execution_count": 20,
   "metadata": {},
   "outputs": [],
   "source": [
    "# Собираем новый df_clean с новостями и нашим таргетом\n",
    "df_clean = pd.concat([pd.Series(clean_tokenized_text, name='news'), \n",
    "                pd.Series(df['topic'], name='target')], \n",
    "               axis=1)"
   ]
  },
  {
   "cell_type": "code",
   "execution_count": 21,
   "metadata": {},
   "outputs": [
    {
     "data": {
      "text/html": [
       "<div>\n",
       "<style scoped>\n",
       "    .dataframe tbody tr th:only-of-type {\n",
       "        vertical-align: middle;\n",
       "    }\n",
       "\n",
       "    .dataframe tbody tr th {\n",
       "        vertical-align: top;\n",
       "    }\n",
       "\n",
       "    .dataframe thead th {\n",
       "        text-align: right;\n",
       "    }\n",
       "</style>\n",
       "<table border=\"1\" class=\"dataframe\">\n",
       "  <thead>\n",
       "    <tr style=\"text-align: right;\">\n",
       "      <th></th>\n",
       "      <th>news</th>\n",
       "      <th>target</th>\n",
       "    </tr>\n",
       "  </thead>\n",
       "  <tbody>\n",
       "    <tr>\n",
       "      <th>0</th>\n",
       "      <td>британцы отмечают сегодня скорбную дату вторую...</td>\n",
       "      <td>Мир</td>\n",
       "    </tr>\n",
       "    <tr>\n",
       "      <th>1</th>\n",
       "      <td>подземный толчок силой балла северозападе турц...</td>\n",
       "      <td>Мир</td>\n",
       "    </tr>\n",
       "    <tr>\n",
       "      <th>2</th>\n",
       "      <td>представителей националбольшевистской партии р...</td>\n",
       "      <td>Мир</td>\n",
       "    </tr>\n",
       "    <tr>\n",
       "      <th>3</th>\n",
       "      <td>юге киргизии именно баткенском чоналайскомрайо...</td>\n",
       "      <td>Мир</td>\n",
       "    </tr>\n",
       "    <tr>\n",
       "      <th>4</th>\n",
       "      <td>россия крайне негативно оценивает судебный про...</td>\n",
       "      <td>Мир</td>\n",
       "    </tr>\n",
       "    <tr>\n",
       "      <th>...</th>\n",
       "      <td>...</td>\n",
       "      <td>...</td>\n",
       "    </tr>\n",
       "    <tr>\n",
       "      <th>432153</th>\n",
       "      <td>россия призвала китай принять участие перегово...</td>\n",
       "      <td>Мир</td>\n",
       "    </tr>\n",
       "    <tr>\n",
       "      <th>432154</th>\n",
       "      <td>главный тренер манчестер юнайтед жозе моуринью...</td>\n",
       "      <td>Спорт</td>\n",
       "    </tr>\n",
       "    <tr>\n",
       "      <th>432155</th>\n",
       "      <td>президент россии владимир путин выступая засед...</td>\n",
       "      <td>Культура</td>\n",
       "    </tr>\n",
       "    <tr>\n",
       "      <th>432156</th>\n",
       "      <td>протесты движения желтых жилетов париже снова ...</td>\n",
       "      <td>Мир</td>\n",
       "    </tr>\n",
       "    <tr>\n",
       "      <th>432157</th>\n",
       "      <td>швейцарский горнолыжник марк гизин неудачно пр...</td>\n",
       "      <td>Спорт</td>\n",
       "    </tr>\n",
       "  </tbody>\n",
       "</table>\n",
       "<p>432158 rows × 2 columns</p>\n",
       "</div>"
      ],
      "text/plain": [
       "                                                     news    target\n",
       "0       британцы отмечают сегодня скорбную дату вторую...       Мир\n",
       "1       подземный толчок силой балла северозападе турц...       Мир\n",
       "2       представителей националбольшевистской партии р...       Мир\n",
       "3       юге киргизии именно баткенском чоналайскомрайо...       Мир\n",
       "4       россия крайне негативно оценивает судебный про...       Мир\n",
       "...                                                   ...       ...\n",
       "432153  россия призвала китай принять участие перегово...       Мир\n",
       "432154  главный тренер манчестер юнайтед жозе моуринью...     Спорт\n",
       "432155  президент россии владимир путин выступая засед...  Культура\n",
       "432156  протесты движения желтых жилетов париже снова ...       Мир\n",
       "432157  швейцарский горнолыжник марк гизин неудачно пр...     Спорт\n",
       "\n",
       "[432158 rows x 2 columns]"
      ]
     },
     "execution_count": 21,
     "metadata": {},
     "output_type": "execute_result"
    }
   ],
   "source": [
    "df_clean"
   ]
  },
  {
   "cell_type": "code",
   "execution_count": 15,
   "metadata": {},
   "outputs": [],
   "source": [
    "# Сохраняем в отдельный файл\n",
    "df_clean.to_csv('cleandf.csv')"
   ]
  },
  {
   "cell_type": "code",
   "execution_count": 16,
   "metadata": {},
   "outputs": [
    {
     "data": {
      "image/png": "[encoded data removed]",
      "text/plain": [
       "<Figure size 960x640 with 1 Axes>"
      ]
     },
     "metadata": {
      "needs_background": "light"
     },
     "output_type": "display_data"
    }
   ],
   "source": [
    "# Смотрим на распределение классов\n",
    "figure(figsize=(12, 8), dpi=80)\n",
    "sns.barplot(x=df_clean['target'].value_counts().index, y= df_clean['target'].value_counts());"
   ]
  },
  {
   "cell_type": "markdown",
   "metadata": {},
   "source": [
    "## Часть 2"
   ]
  },
  {
   "cell_type": "code",
   "execution_count": 8,
   "metadata": {},
   "outputs": [],
   "source": [
    "# Разбиваем наш df на train&valid части.\n",
    "X_train, X_valid, y_train, y_valid = train_test_split(df_clean['news'], df_clean['target'], test_size=0.1, random_state=42)"
   ]
  },
  {
   "cell_type": "code",
   "execution_count": 9,
   "metadata": {},
   "outputs": [
    {
     "name": "stdout",
     "output_type": "stream",
     "text": [
      "(388942,) (43216,)\n"
     ]
    }
   ],
   "source": [
    "# Смотрим на размерность\n",
    "print(X_train.shape, X_valid.shape)"
   ]
  },
  {
   "cell_type": "code",
   "execution_count": 10,
   "metadata": {},
   "outputs": [],
   "source": [
    "# Искусственно понижаем кол-во выборки train части и повышаем test часть.\n",
    "X_train, X_test, y_train, y_test = train_test_split(X_train, y_train, test_size=0.2, random_state=42)"
   ]
  },
  {
   "cell_type": "code",
   "execution_count": 11,
   "metadata": {},
   "outputs": [
    {
     "name": "stdout",
     "output_type": "stream",
     "text": [
      "(311153,) (77789,)\n"
     ]
    }
   ],
   "source": [
    "# Смотрим на размерность\n",
    "print(X_train.shape, X_test.shape)"
   ]
  },
  {
   "cell_type": "code",
   "execution_count": 13,
   "metadata": {},
   "outputs": [],
   "source": [
    "# Создаем переменную нашего Pipelin'a\n",
    "sgd_ppl_clf = Pipeline([\n",
    "    ('tfidf', TfidfVectorizer()),\n",
    "    ('sgd_clf', SGDClassifier(random_state=42))\n",
    "])"
   ]
  },
  {
   "cell_type": "code",
   "execution_count": 14,
   "metadata": {},
   "outputs": [
    {
     "data": {
      "text/html": [
       "<style>#sk-container-id-1 {color: black;background-color: white;}#sk-container-id-1 pre{padding: 0;}#sk-container-id-1 div.sk-toggleable {background-color: white;}#sk-container-id-1 label.sk-toggleable__label {cursor: pointer;display: block;width: 100%;margin-bottom: 0;padding: 0.3em;box-sizing: border-box;text-align: center;}#sk-container-id-1 label.sk-toggleable__label-arrow:before {content: \"▸\";float: left;margin-right: 0.25em;color: #696969;}#sk-container-id-1 label.sk-toggleable__label-arrow:hover:before {color: black;}#sk-container-id-1 div.sk-estimator:hover label.sk-toggleable__label-arrow:before {color: black;}#sk-container-id-1 div.sk-toggleable__content {max-height: 0;max-width: 0;overflow: hidden;text-align: left;background-color: #f0f8ff;}#sk-container-id-1 div.sk-toggleable__content pre {margin: 0.2em;color: black;border-radius: 0.25em;background-color: #f0f8ff;}#sk-container-id-1 input.sk-toggleable__control:checked~div.sk-toggleable__content {max-height: 200px;max-width: 100%;overflow: auto;}#sk-container-id-1 input.sk-toggleable__control:checked~label.sk-toggleable__label-arrow:before {content: \"▾\";}#sk-container-id-1 div.sk-estimator input.sk-toggleable__control:checked~label.sk-toggleable__label {background-color: #d4ebff;}#sk-container-id-1 div.sk-label input.sk-toggleable__control:checked~label.sk-toggleable__label {background-color: #d4ebff;}#sk-container-id-1 input.sk-hidden--visually {border: 0;clip: rect(1px 1px 1px 1px);clip: rect(1px, 1px, 1px, 1px);height: 1px;margin: -1px;overflow: hidden;padding: 0;position: absolute;width: 1px;}#sk-container-id-1 div.sk-estimator {font-family: monospace;background-color: #f0f8ff;border: 1px dotted black;border-radius: 0.25em;box-sizing: border-box;margin-bottom: 0.5em;}#sk-container-id-1 div.sk-estimator:hover {background-color: #d4ebff;}#sk-container-id-1 div.sk-parallel-item::after {content: \"\";width: 100%;border-bottom: 1px solid gray;flex-grow: 1;}#sk-container-id-1 div.sk-label:hover label.sk-toggleable__label {background-color: #d4ebff;}#sk-container-id-1 div.sk-serial::before {content: \"\";position: absolute;border-left: 1px solid gray;box-sizing: border-box;top: 0;bottom: 0;left: 50%;z-index: 0;}#sk-container-id-1 div.sk-serial {display: flex;flex-direction: column;align-items: center;background-color: white;padding-right: 0.2em;padding-left: 0.2em;position: relative;}#sk-container-id-1 div.sk-item {position: relative;z-index: 1;}#sk-container-id-1 div.sk-parallel {display: flex;align-items: stretch;justify-content: center;background-color: white;position: relative;}#sk-container-id-1 div.sk-item::before, #sk-container-id-1 div.sk-parallel-item::before {content: \"\";position: absolute;border-left: 1px solid gray;box-sizing: border-box;top: 0;bottom: 0;left: 50%;z-index: -1;}#sk-container-id-1 div.sk-parallel-item {display: flex;flex-direction: column;z-index: 1;position: relative;background-color: white;}#sk-container-id-1 div.sk-parallel-item:first-child::after {align-self: flex-end;width: 50%;}#sk-container-id-1 div.sk-parallel-item:last-child::after {align-self: flex-start;width: 50%;}#sk-container-id-1 div.sk-parallel-item:only-child::after {width: 0;}#sk-container-id-1 div.sk-dashed-wrapped {border: 1px dashed gray;margin: 0 0.4em 0.5em 0.4em;box-sizing: border-box;padding-bottom: 0.4em;background-color: white;}#sk-container-id-1 div.sk-label label {font-family: monospace;font-weight: bold;display: inline-block;line-height: 1.2em;}#sk-container-id-1 div.sk-label-container {text-align: center;}#sk-container-id-1 div.sk-container {/* jupyter's `normalize.less` sets `[hidden] { display: none; }` but bootstrap.min.css set `[hidden] { display: none !important; }` so we also need the `!important` here to be able to override the default hidden behavior on the sphinx rendered scikit-learn.org. See: https://github.com/scikit-learn/scikit-learn/issues/21755 */display: inline-block !important;position: relative;}#sk-container-id-1 div.sk-text-repr-fallback {display: none;}</style><div id=\"sk-container-id-1\" class=\"sk-top-container\"><div class=\"sk-text-repr-fallback\"><pre>Pipeline(steps=[(&#x27;tfidf&#x27;, TfidfVectorizer()),\n",
       "                (&#x27;sgd_clf&#x27;, SGDClassifier(random_state=42))])</pre><b>In a Jupyter environment, please rerun this cell to show the HTML representation or trust the notebook. <br />On GitHub, the HTML representation is unable to render, please try loading this page with nbviewer.org.</b></div><div class=\"sk-container\" hidden><div class=\"sk-item sk-dashed-wrapped\"><div class=\"sk-label-container\"><div class=\"sk-label sk-toggleable\"><input class=\"sk-toggleable__control sk-hidden--visually\" id=\"sk-estimator-id-1\" type=\"checkbox\" ><label for=\"sk-estimator-id-1\" class=\"sk-toggleable__label sk-toggleable__label-arrow\">Pipeline</label><div class=\"sk-toggleable__content\"><pre>Pipeline(steps=[(&#x27;tfidf&#x27;, TfidfVectorizer()),\n",
       "                (&#x27;sgd_clf&#x27;, SGDClassifier(random_state=42))])</pre></div></div></div><div class=\"sk-serial\"><div class=\"sk-item\"><div class=\"sk-estimator sk-toggleable\"><input class=\"sk-toggleable__control sk-hidden--visually\" id=\"sk-estimator-id-2\" type=\"checkbox\" ><label for=\"sk-estimator-id-2\" class=\"sk-toggleable__label sk-toggleable__label-arrow\">TfidfVectorizer</label><div class=\"sk-toggleable__content\"><pre>TfidfVectorizer()</pre></div></div></div><div class=\"sk-item\"><div class=\"sk-estimator sk-toggleable\"><input class=\"sk-toggleable__control sk-hidden--visually\" id=\"sk-estimator-id-3\" type=\"checkbox\" ><label for=\"sk-estimator-id-3\" class=\"sk-toggleable__label sk-toggleable__label-arrow\">SGDClassifier</label><div class=\"sk-toggleable__content\"><pre>SGDClassifier(random_state=42)</pre></div></div></div></div></div></div></div>"
      ],
      "text/plain": [
       "Pipeline(steps=[('tfidf', TfidfVectorizer()),\n",
       "                ('sgd_clf', SGDClassifier(random_state=42))])"
      ]
     },
     "execution_count": 14,
     "metadata": {},
     "output_type": "execute_result"
    }
   ],
   "source": [
    "sgd_ppl_clf.fit(X_train, y_train)"
   ]
  },
  {
   "cell_type": "code",
   "execution_count": 15,
   "metadata": {},
   "outputs": [
    {
     "name": "stdout",
     "output_type": "stream",
     "text": [
      "                 precision    recall  f1-score   support\n",
      "\n",
      " Интернет и СМИ       0.72      0.90      0.80      6437\n",
      "       Культура       0.94      0.92      0.93      9674\n",
      "            Мир       0.95      0.90      0.93     25922\n",
      "Наука и техника       0.88      0.91      0.90      9424\n",
      "          Спорт       0.98      0.98      0.98     11776\n",
      "      Экономика       0.94      0.92      0.93     14556\n",
      "\n",
      "       accuracy                           0.92     77789\n",
      "      macro avg       0.90      0.92      0.91     77789\n",
      "   weighted avg       0.92      0.92      0.92     77789\n",
      "\n"
     ]
    }
   ],
   "source": [
    "# Смотрим на результат метрик\n",
    "predicted_sgd = sgd_ppl_clf.predict(X_test)\n",
    "print(metrics.classification_report(predicted_sgd, y_test))"
   ]
  },
  {
   "cell_type": "code",
   "execution_count": 16,
   "metadata": {},
   "outputs": [],
   "source": [
    "# Создаем переменную нашего Pipelin'a №2\n",
    "log_ppl_clf = Pipeline([\n",
    "    ('tfidf', TfidfVectorizer()),\n",
    "    ('sgd_clf',  LogisticRegression())\n",
    "])"
   ]
  },
  {
   "cell_type": "code",
   "execution_count": 17,
   "metadata": {},
   "outputs": [
    {
     "name": "stderr",
     "output_type": "stream",
     "text": [
      "/home/tabqui-acer/miniforge3/envs/NeuralNetwork/lib/python3.9/site-packages/sklearn/linear_model/_logistic.py:444: ConvergenceWarning: lbfgs failed to converge (status=1):\n",
      "STOP: TOTAL NO. of ITERATIONS REACHED LIMIT.\n",
      "\n",
      "Increase the number of iterations (max_iter) or scale the data as shown in:\n",
      "    https://scikit-learn.org/stable/modules/preprocessing.html\n",
      "Please also refer to the documentation for alternative solver options:\n",
      "    https://scikit-learn.org/stable/modules/linear_model.html#logistic-regression\n",
      "  n_iter_i = _check_optimize_result(\n"
     ]
    },
    {
     "data": {
      "text/html": [
       "<style>#sk-container-id-2 {color: black;background-color: white;}#sk-container-id-2 pre{padding: 0;}#sk-container-id-2 div.sk-toggleable {background-color: white;}#sk-container-id-2 label.sk-toggleable__label {cursor: pointer;display: block;width: 100%;margin-bottom: 0;padding: 0.3em;box-sizing: border-box;text-align: center;}#sk-container-id-2 label.sk-toggleable__label-arrow:before {content: \"▸\";float: left;margin-right: 0.25em;color: #696969;}#sk-container-id-2 label.sk-toggleable__label-arrow:hover:before {color: black;}#sk-container-id-2 div.sk-estimator:hover label.sk-toggleable__label-arrow:before {color: black;}#sk-container-id-2 div.sk-toggleable__content {max-height: 0;max-width: 0;overflow: hidden;text-align: left;background-color: #f0f8ff;}#sk-container-id-2 div.sk-toggleable__content pre {margin: 0.2em;color: black;border-radius: 0.25em;background-color: #f0f8ff;}#sk-container-id-2 input.sk-toggleable__control:checked~div.sk-toggleable__content {max-height: 200px;max-width: 100%;overflow: auto;}#sk-container-id-2 input.sk-toggleable__control:checked~label.sk-toggleable__label-arrow:before {content: \"▾\";}#sk-container-id-2 div.sk-estimator input.sk-toggleable__control:checked~label.sk-toggleable__label {background-color: #d4ebff;}#sk-container-id-2 div.sk-label input.sk-toggleable__control:checked~label.sk-toggleable__label {background-color: #d4ebff;}#sk-container-id-2 input.sk-hidden--visually {border: 0;clip: rect(1px 1px 1px 1px);clip: rect(1px, 1px, 1px, 1px);height: 1px;margin: -1px;overflow: hidden;padding: 0;position: absolute;width: 1px;}#sk-container-id-2 div.sk-estimator {font-family: monospace;background-color: #f0f8ff;border: 1px dotted black;border-radius: 0.25em;box-sizing: border-box;margin-bottom: 0.5em;}#sk-container-id-2 div.sk-estimator:hover {background-color: #d4ebff;}#sk-container-id-2 div.sk-parallel-item::after {content: \"\";width: 100%;border-bottom: 1px solid gray;flex-grow: 1;}#sk-container-id-2 div.sk-label:hover label.sk-toggleable__label {background-color: #d4ebff;}#sk-container-id-2 div.sk-serial::before {content: \"\";position: absolute;border-left: 1px solid gray;box-sizing: border-box;top: 0;bottom: 0;left: 50%;z-index: 0;}#sk-container-id-2 div.sk-serial {display: flex;flex-direction: column;align-items: center;background-color: white;padding-right: 0.2em;padding-left: 0.2em;position: relative;}#sk-container-id-2 div.sk-item {position: relative;z-index: 1;}#sk-container-id-2 div.sk-parallel {display: flex;align-items: stretch;justify-content: center;background-color: white;position: relative;}#sk-container-id-2 div.sk-item::before, #sk-container-id-2 div.sk-parallel-item::before {content: \"\";position: absolute;border-left: 1px solid gray;box-sizing: border-box;top: 0;bottom: 0;left: 50%;z-index: -1;}#sk-container-id-2 div.sk-parallel-item {display: flex;flex-direction: column;z-index: 1;position: relative;background-color: white;}#sk-container-id-2 div.sk-parallel-item:first-child::after {align-self: flex-end;width: 50%;}#sk-container-id-2 div.sk-parallel-item:last-child::after {align-self: flex-start;width: 50%;}#sk-container-id-2 div.sk-parallel-item:only-child::after {width: 0;}#sk-container-id-2 div.sk-dashed-wrapped {border: 1px dashed gray;margin: 0 0.4em 0.5em 0.4em;box-sizing: border-box;padding-bottom: 0.4em;background-color: white;}#sk-container-id-2 div.sk-label label {font-family: monospace;font-weight: bold;display: inline-block;line-height: 1.2em;}#sk-container-id-2 div.sk-label-container {text-align: center;}#sk-container-id-2 div.sk-container {/* jupyter's `normalize.less` sets `[hidden] { display: none; }` but bootstrap.min.css set `[hidden] { display: none !important; }` so we also need the `!important` here to be able to override the default hidden behavior on the sphinx rendered scikit-learn.org. See: https://github.com/scikit-learn/scikit-learn/issues/21755 */display: inline-block !important;position: relative;}#sk-container-id-2 div.sk-text-repr-fallback {display: none;}</style><div id=\"sk-container-id-2\" class=\"sk-top-container\"><div class=\"sk-text-repr-fallback\"><pre>Pipeline(steps=[(&#x27;tfidf&#x27;, TfidfVectorizer()),\n",
       "                (&#x27;sgd_clf&#x27;, LogisticRegression())])</pre><b>In a Jupyter environment, please rerun this cell to show the HTML representation or trust the notebook. <br />On GitHub, the HTML representation is unable to render, please try loading this page with nbviewer.org.</b></div><div class=\"sk-container\" hidden><div class=\"sk-item sk-dashed-wrapped\"><div class=\"sk-label-container\"><div class=\"sk-label sk-toggleable\"><input class=\"sk-toggleable__control sk-hidden--visually\" id=\"sk-estimator-id-4\" type=\"checkbox\" ><label for=\"sk-estimator-id-4\" class=\"sk-toggleable__label sk-toggleable__label-arrow\">Pipeline</label><div class=\"sk-toggleable__content\"><pre>Pipeline(steps=[(&#x27;tfidf&#x27;, TfidfVectorizer()),\n",
       "                (&#x27;sgd_clf&#x27;, LogisticRegression())])</pre></div></div></div><div class=\"sk-serial\"><div class=\"sk-item\"><div class=\"sk-estimator sk-toggleable\"><input class=\"sk-toggleable__control sk-hidden--visually\" id=\"sk-estimator-id-5\" type=\"checkbox\" ><label for=\"sk-estimator-id-5\" class=\"sk-toggleable__label sk-toggleable__label-arrow\">TfidfVectorizer</label><div class=\"sk-toggleable__content\"><pre>TfidfVectorizer()</pre></div></div></div><div class=\"sk-item\"><div class=\"sk-estimator sk-toggleable\"><input class=\"sk-toggleable__control sk-hidden--visually\" id=\"sk-estimator-id-6\" type=\"checkbox\" ><label for=\"sk-estimator-id-6\" class=\"sk-toggleable__label sk-toggleable__label-arrow\">LogisticRegression</label><div class=\"sk-toggleable__content\"><pre>LogisticRegression()</pre></div></div></div></div></div></div></div>"
      ],
      "text/plain": [
       "Pipeline(steps=[('tfidf', TfidfVectorizer()),\n",
       "                ('sgd_clf', LogisticRegression())])"
      ]
     },
     "execution_count": 17,
     "metadata": {},
     "output_type": "execute_result"
    }
   ],
   "source": [
    "log_ppl_clf.fit(X_train, y_train)"
   ]
  },
  {
   "cell_type": "code",
   "execution_count": 18,
   "metadata": {},
   "outputs": [
    {
     "name": "stdout",
     "output_type": "stream",
     "text": [
      "                 precision    recall  f1-score   support\n",
      "\n",
      " Интернет и СМИ       0.83      0.88      0.86      7615\n",
      "       Культура       0.95      0.94      0.94      9628\n",
      "            Мир       0.96      0.93      0.94     25125\n",
      "Наука и техника       0.90      0.93      0.92      9484\n",
      "          Спорт       0.98      0.98      0.98     11689\n",
      "      Экономика       0.94      0.95      0.95     14248\n",
      "\n",
      "       accuracy                           0.94     77789\n",
      "      macro avg       0.93      0.93      0.93     77789\n",
      "   weighted avg       0.94      0.94      0.94     77789\n",
      "\n"
     ]
    }
   ],
   "source": [
    "# Смотрим на результат метрик\n",
    "predicted_log = log_ppl_clf.predict(X_test)\n",
    "print(metrics.classification_report(predicted_log, y_test))"
   ]
  },
  {
   "cell_type": "markdown",
   "metadata": {},
   "source": [
    "### Я думаю, что сейчас SGD и tF-iDF можно оптимизировать с помощью GridSearchCV, верно?"
   ]
  },
  {
   "cell_type": "code",
   "execution_count": 17,
   "metadata": {},
   "outputs": [],
   "source": [
    "# Grid for SGD model\n",
    "parameters = {'sgd_clf__loss':['hinge', 'log', 'modified_huber', 'squared_hinge', 'perceptron'],\n",
    "              'sgd_clf__loss':['log', 'squared_hinge', 'perceptron'],\n",
    "              'sgd_clf__class_weight':[None, 'balanced'],\n",
    "              'tfidf__strip_accents':['ascii', 'unicode', None],\n",
    "               'tfidf__ngram_range':[(1,2), (1,3), (1,4)]\n",
    "              }\n",
    "model = GridSearchCV(sgd_ppl_clf, parameters, cv=4, n_jobs=-1).fit(X_train, y_train)"
   ]
  },
  {
   "cell_type": "code",
   "execution_count": null,
   "metadata": {},
   "outputs": [],
   "source": [
    "print('Best score and parameter combination:')\n",
    "print(model.best_score_, model.best_params_) "
   ]
  },
  {
   "cell_type": "code",
   "execution_count": null,
   "metadata": {},
   "outputs": [],
   "source": [
    "# Grid for tF-iDF with LogReg\n",
    "log_parameters = {\n",
    "              'tfidf__strip_accents':['ascii', 'unicode', None],\n",
    "               'tfidf__ngram_range':[(1,2), (1,3), (1,4)]\n",
    "              }\n",
    "log_model = GridSearchCV(log_ppl_clf, parameters, cv=4, n_jobs=-1).fit(X_train, y_train)"
   ]
  },
  {
   "cell_type": "code",
   "execution_count": null,
   "metadata": {},
   "outputs": [],
   "source": [
    "print('Best score and parameter combination:')\n",
    "print(model.best_score_, model.best_params_) "
   ]
  },
  {
   "cell_type": "code",
   "execution_count": null,
   "metadata": {},
   "outputs": [],
   "source": [
    "# New score metrics 1\n",
    "predicted_sgd = sgd_ppl_clf.predict(X_test)\n",
    "print(metrics.classification_report(predicted_sgd, y_test))"
   ]
  },
  {
   "cell_type": "code",
   "execution_count": null,
   "metadata": {},
   "outputs": [],
   "source": [
    "# New score metrics 2\n",
    "predicted_log = sgd_ppl_clf.predict(X_test)\n",
    "print(metrics.classification_report(predicted_log, y_test))"
   ]
  },
  {
   "cell_type": "markdown",
   "metadata": {},
   "source": [
    "### Возьмем текстовую модель LSTM"
   ]
  },
  {
   "cell_type": "markdown",
   "metadata": {},
   "source": [
    "## Часть 3"
   ]
  },
  {
   "cell_type": "code",
   "execution_count": 4,
   "metadata": {},
   "outputs": [],
   "source": [
    "stop_words2 = set(stopwords.words('russian'))"
   ]
  },
  {
   "cell_type": "code",
   "execution_count": 5,
   "metadata": {},
   "outputs": [],
   "source": [
    "# Функция предобработки текста\n",
    "def clean2(text):\n",
    "    # Перевод в нижний регистр.\n",
    "    text = text.lower()\n",
    "    # При импортировании DF появились маска.\n",
    "    text = text.replace('<?xml version=\"1.0\" encoding=\"utf-8\"?>\\n<conversion><person>', '', 1) \n",
    "    text = text.replace('</person></conversion>', '', 2)\n",
    "    text = text.replace('\\xa0', ' ', 2)\n",
    "    text = text.replace('\\n', ' ', 2)\n",
    "    # Удаляем ссылки.\n",
    "    text = re.sub(r'www\\S+', \"\", text) \n",
    "    text = re.sub(r\"(https?:\\/\\/)?([\\da-z\\.-]+)\\.([a-z\\.]{2,6})([\\/\\w \\.-]*)\", \"\", text)\n",
    "    # Удаляем упоминания пользователей и хэштеги.\n",
    "    text = re.sub(r'@\\w+','',text) \n",
    "    text = re.sub(r'#\\w+', '', text)\n",
    "    # Удаляем числа и знаки пунктуации.\n",
    "    text = re.sub(r'\\d+', '', text)\n",
    "    text = text.translate(str.maketrans('', '', string.punctuation))\n",
    "    text = re.sub(r'<.*?>','', text)\n",
    "    text = re.sub(r'«*»*:*,*\"*-*','', text) \n",
    "    text = text.strip(' ')\n",
    "    text = [word for word in text.split() if word not in stop_words2] #del stopword\n",
    "    text = ' '.join(text)\n",
    "    \n",
    "    return text"
   ]
  },
  {
   "cell_type": "code",
   "execution_count": 6,
   "metadata": {},
   "outputs": [],
   "source": [
    "df['title'] = df['title'].apply(clean2)"
   ]
  },
  {
   "cell_type": "code",
   "execution_count": 7,
   "metadata": {},
   "outputs": [
    {
     "data": {
      "text/html": [
       "<div>\n",
       "<style scoped>\n",
       "    .dataframe tbody tr th:only-of-type {\n",
       "        vertical-align: middle;\n",
       "    }\n",
       "\n",
       "    .dataframe tbody tr th {\n",
       "        vertical-align: top;\n",
       "    }\n",
       "\n",
       "    .dataframe thead th {\n",
       "        text-align: right;\n",
       "    }\n",
       "</style>\n",
       "<table border=\"1\" class=\"dataframe\">\n",
       "  <thead>\n",
       "    <tr style=\"text-align: right;\">\n",
       "      <th></th>\n",
       "      <th>title</th>\n",
       "      <th>text</th>\n",
       "      <th>topic</th>\n",
       "    </tr>\n",
       "  </thead>\n",
       "  <tbody>\n",
       "    <tr>\n",
       "      <th>0</th>\n",
       "      <td>британцы отмечают двухлетие смерти дианы</td>\n",
       "      <td>&lt;?xml version=\"1.0\" encoding=\"utf-8\"?&gt;\\n&lt;conve...</td>\n",
       "      <td>Мир</td>\n",
       "    </tr>\n",
       "    <tr>\n",
       "      <th>1</th>\n",
       "      <td>одно землетрясение турции человек погиб около ...</td>\n",
       "      <td>&lt;?xml version=\"1.0\" encoding=\"utf-8\"?&gt;\\n&lt;conve...</td>\n",
       "      <td>Мир</td>\n",
       "    </tr>\n",
       "    <tr>\n",
       "      <th>2</th>\n",
       "      <td>российские националбольшевики убирают территор...</td>\n",
       "      <td>&lt;?xml version=\"1.0\" encoding=\"utf-8\"?&gt;\\n&lt;conve...</td>\n",
       "      <td>Мир</td>\n",
       "    </tr>\n",
       "    <tr>\n",
       "      <th>3</th>\n",
       "      <td>киргизия ведет бои границах таджикистаном узбе...</td>\n",
       "      <td>&lt;?xml version=\"1.0\" encoding=\"utf-8\"?&gt;\\n&lt;conve...</td>\n",
       "      <td>Мир</td>\n",
       "    </tr>\n",
       "    <tr>\n",
       "      <th>4</th>\n",
       "      <td>литва засудила участников переворота года</td>\n",
       "      <td>&lt;?xml version=\"1.0\" encoding=\"utf-8\"?&gt;\\n&lt;conve...</td>\n",
       "      <td>Мир</td>\n",
       "    </tr>\n",
       "  </tbody>\n",
       "</table>\n",
       "</div>"
      ],
      "text/plain": [
       "                                               title  \\\n",
       "0           британцы отмечают двухлетие смерти дианы   \n",
       "1  одно землетрясение турции человек погиб около ...   \n",
       "2  российские националбольшевики убирают территор...   \n",
       "3  киргизия ведет бои границах таджикистаном узбе...   \n",
       "4          литва засудила участников переворота года   \n",
       "\n",
       "                                                text topic  \n",
       "0  <?xml version=\"1.0\" encoding=\"utf-8\"?>\\n<conve...   Мир  \n",
       "1  <?xml version=\"1.0\" encoding=\"utf-8\"?>\\n<conve...   Мир  \n",
       "2  <?xml version=\"1.0\" encoding=\"utf-8\"?>\\n<conve...   Мир  \n",
       "3  <?xml version=\"1.0\" encoding=\"utf-8\"?>\\n<conve...   Мир  \n",
       "4  <?xml version=\"1.0\" encoding=\"utf-8\"?>\\n<conve...   Мир  "
      ]
     },
     "execution_count": 7,
     "metadata": {},
     "output_type": "execute_result"
    }
   ],
   "source": [
    "df.head(5)"
   ]
  },
  {
   "cell_type": "markdown",
   "metadata": {},
   "source": [
    "### Обычно при токенизации и сопоставлении целых чисел словам принцип такой: наиболее популярным словам соответсвуют меньшие индексы (но ноль зарезервирован – об этом ниже)."
   ]
  },
  {
   "cell_type": "code",
   "execution_count": 8,
   "metadata": {},
   "outputs": [],
   "source": [
    "corpus = [word for text in df['title'] for word in text.split()]\n",
    "count_words = Counter(corpus)\n",
    "sorted_words = count_words.most_common()"
   ]
  },
  {
   "cell_type": "code",
   "execution_count": 38,
   "metadata": {},
   "outputs": [
    {
     "data": {
      "image/png": "[encoded data removed]",
      "text/plain": [
       "<Figure size 1440x432 with 1 Axes>"
      ]
     },
     "metadata": {
      "needs_background": "light"
     },
     "output_type": "display_data"
    }
   ],
   "source": [
    "keys = []\n",
    "values = []\n",
    "for key, value in sorted_words[:20]:\n",
    "    keys.append(key)\n",
    "    values.append(value)\n",
    "    \n",
    "plt.figure(figsize=(20, 6))\n",
    "plt.bar(keys, values)\n",
    "plt.title('Top 20 most common words', size=25)\n",
    "plt.show()"
   ]
  },
  {
   "cell_type": "code",
   "execution_count": 10,
   "metadata": {},
   "outputs": [
    {
     "name": "stdout",
     "output_type": "stream",
     "text": [
      "[[481, 16636, 48780, 190, 4898]]\n"
     ]
    }
   ],
   "source": [
    "# Сопоставляем каждому слову в словаре целое число – эти данные пойдут в нейросеть.\n",
    "vocab_to_int = {w:i+1 for i, (w,c) in enumerate(sorted_words)}\n",
    "\n",
    "reviews_int = []\n",
    "for text in df['title']:\n",
    "    r = [vocab_to_int[word] for word in text.split()]\n",
    "    reviews_int.append(r)\n",
    "\n",
    "print(reviews_int[:1])\n",
    "df['title_int'] = reviews_int"
   ]
  },
  {
   "cell_type": "code",
   "execution_count": 12,
   "metadata": {},
   "outputs": [],
   "source": [
    "le = LabelEncoder()"
   ]
  },
  {
   "cell_type": "code",
   "execution_count": 18,
   "metadata": {},
   "outputs": [],
   "source": [
    "df['topic_int'] = le.fit_transform(df['topic'])"
   ]
  },
  {
   "cell_type": "code",
   "execution_count": 13,
   "metadata": {},
   "outputs": [
    {
     "data": {
      "text/html": [
       "<div>\n",
       "<style scoped>\n",
       "    .dataframe tbody tr th:only-of-type {\n",
       "        vertical-align: middle;\n",
       "    }\n",
       "\n",
       "    .dataframe tbody tr th {\n",
       "        vertical-align: top;\n",
       "    }\n",
       "\n",
       "    .dataframe thead th {\n",
       "        text-align: right;\n",
       "    }\n",
       "</style>\n",
       "<table border=\"1\" class=\"dataframe\">\n",
       "  <thead>\n",
       "    <tr style=\"text-align: right;\">\n",
       "      <th></th>\n",
       "      <th>title</th>\n",
       "      <th>text</th>\n",
       "      <th>topic</th>\n",
       "      <th>title_int</th>\n",
       "      <th>title_len</th>\n",
       "    </tr>\n",
       "  </thead>\n",
       "  <tbody>\n",
       "    <tr>\n",
       "      <th>0</th>\n",
       "      <td>британцы отмечают двухлетие смерти дианы</td>\n",
       "      <td>&lt;?xml version=\"1.0\" encoding=\"utf-8\"?&gt;\\n&lt;conve...</td>\n",
       "      <td>Мир</td>\n",
       "      <td>[481, 16636, 48780, 190, 4898]</td>\n",
       "      <td>5</td>\n",
       "    </tr>\n",
       "    <tr>\n",
       "      <th>1</th>\n",
       "      <td>одно землетрясение турции человек погиб около ...</td>\n",
       "      <td>&lt;?xml version=\"1.0\" encoding=\"utf-8\"?&gt;\\n&lt;conve...</td>\n",
       "      <td>Мир</td>\n",
       "      <td>[4285, 413, 120, 5, 241, 812, 999]</td>\n",
       "      <td>7</td>\n",
       "    </tr>\n",
       "    <tr>\n",
       "      <th>2</th>\n",
       "      <td>российские националбольшевики убирают территор...</td>\n",
       "      <td>&lt;?xml version=\"1.0\" encoding=\"utf-8\"?&gt;\\n&lt;conve...</td>\n",
       "      <td>Мир</td>\n",
       "      <td>[18, 48781, 48782, 5060, 19309]</td>\n",
       "      <td>5</td>\n",
       "    </tr>\n",
       "    <tr>\n",
       "      <th>3</th>\n",
       "      <td>киргизия ведет бои границах таджикистаном узбе...</td>\n",
       "      <td>&lt;?xml version=\"1.0\" encoding=\"utf-8\"?&gt;\\n&lt;conve...</td>\n",
       "      <td>Мир</td>\n",
       "      <td>[11432, 6651, 4020, 22921, 48783, 38966]</td>\n",
       "      <td>6</td>\n",
       "    </tr>\n",
       "    <tr>\n",
       "      <th>4</th>\n",
       "      <td>литва засудила участников переворота года</td>\n",
       "      <td>&lt;?xml version=\"1.0\" encoding=\"utf-8\"?&gt;\\n&lt;conve...</td>\n",
       "      <td>Мир</td>\n",
       "      <td>[3739, 28630, 938, 3898, 8]</td>\n",
       "      <td>5</td>\n",
       "    </tr>\n",
       "  </tbody>\n",
       "</table>\n",
       "</div>"
      ],
      "text/plain": [
       "                                               title  \\\n",
       "0           британцы отмечают двухлетие смерти дианы   \n",
       "1  одно землетрясение турции человек погиб около ...   \n",
       "2  российские националбольшевики убирают территор...   \n",
       "3  киргизия ведет бои границах таджикистаном узбе...   \n",
       "4          литва засудила участников переворота года   \n",
       "\n",
       "                                                text topic  \\\n",
       "0  <?xml version=\"1.0\" encoding=\"utf-8\"?>\\n<conve...   Мир   \n",
       "1  <?xml version=\"1.0\" encoding=\"utf-8\"?>\\n<conve...   Мир   \n",
       "2  <?xml version=\"1.0\" encoding=\"utf-8\"?>\\n<conve...   Мир   \n",
       "3  <?xml version=\"1.0\" encoding=\"utf-8\"?>\\n<conve...   Мир   \n",
       "4  <?xml version=\"1.0\" encoding=\"utf-8\"?>\\n<conve...   Мир   \n",
       "\n",
       "                                  title_int  title_len  \n",
       "0            [481, 16636, 48780, 190, 4898]          5  \n",
       "1        [4285, 413, 120, 5, 241, 812, 999]          7  \n",
       "2           [18, 48781, 48782, 5060, 19309]          5  \n",
       "3  [11432, 6651, 4020, 22921, 48783, 38966]          6  \n",
       "4               [3739, 28630, 938, 3898, 8]          5  "
      ]
     },
     "execution_count": 13,
     "metadata": {},
     "output_type": "execute_result"
    }
   ],
   "source": [
    "# Все titl'ы состоят из разного числа слова: для удобства можно подсчитать длину всех отзывов:\n",
    "review_len = [len(x) for x in reviews_int]\n",
    "df['title_len'] = review_len\n",
    "df.head()"
   ]
  },
  {
   "cell_type": "code",
   "execution_count": 14,
   "metadata": {},
   "outputs": [
    {
     "name": "stdout",
     "output_type": "stream",
     "text": [
      "count    432158.000000\n",
      "mean          6.086693\n",
      "std           1.297241\n",
      "min           0.000000\n",
      "25%           5.000000\n",
      "50%           6.000000\n",
      "75%           7.000000\n",
      "max          14.000000\n",
      "Name: title_len, dtype: float64\n"
     ]
    },
    {
     "data": {
      "image/png": "[encoded data removed]",
      "text/plain": [
       "<Figure size 432x288 with 1 Axes>"
      ]
     },
     "metadata": {
      "needs_background": "light"
     },
     "output_type": "display_data"
    }
   ],
   "source": [
    "print(df['title_len'].describe())\n",
    "\n",
    "df['title_len'].hist()\n",
    "plt.title('Title length distribution', size=55)\n",
    "plt.show()"
   ]
  },
  {
   "cell_type": "markdown",
   "metadata": {},
   "source": [
    "### Padding"
   ]
  },
  {
   "cell_type": "code",
   "execution_count": 15,
   "metadata": {},
   "outputs": [],
   "source": [
    "def padding(review_int, seq_len):\n",
    "    '''\n",
    "    Делаем padding, если длинна меньше seq_len, \n",
    "    если больше – берем первые seq_len индексов\n",
    "    '''\n",
    "    features = np.zeros((len(reviews_int), seq_len), dtype = int)\n",
    "    for i, review in enumerate(review_int):\n",
    "        if len(review) <= seq_len:\n",
    "            zeros = list(np.zeros(seq_len - len(review)))\n",
    "            new = zeros + review\n",
    "        else:\n",
    "            new = review[: seq_len]\n",
    "        features[i, :] = np.array(new)\n",
    "            \n",
    "    return features"
   ]
  },
  {
   "cell_type": "code",
   "execution_count": 16,
   "metadata": {},
   "outputs": [
    {
     "name": "stdout",
     "output_type": "stream",
     "text": [
      "[    0     0   481 16636 48780   190  4898]\n"
     ]
    }
   ],
   "source": [
    "features = padding(reviews_int, 7)\n",
    "print(features[0, :])"
   ]
  },
  {
   "cell_type": "code",
   "execution_count": 22,
   "metadata": {},
   "outputs": [],
   "source": [
    "X_train, X_remain, y_train, y_remain = train_test_split(features, df['topic_int'].to_numpy(), test_size=0.2, random_state=1)\n",
    "X_valid, X_test, y_valid, y_test = train_test_split(X_remain, y_remain, test_size=0.5, random_state=1)"
   ]
  },
  {
   "cell_type": "code",
   "execution_count": 24,
   "metadata": {},
   "outputs": [],
   "source": [
    "# create tensor dataset\n",
    "train_data = TensorDataset(torch.from_numpy(X_train), torch.from_numpy(y_train))\n",
    "test_data = TensorDataset(torch.from_numpy(X_test), torch.from_numpy(y_test))\n",
    "# valid_data = TensorDataset(torch.from_numpy(X_valid), torch.from_numpy(y_valid))\n",
    "\n",
    "train_loader = DataLoader(train_data, shuffle=True, batch_size=1024)\n",
    "test_loader = DataLoader(test_data, shuffle=True, batch_size=1024)\n",
    "# valid_loader = DataLoader(valid_data, shuffle=True, batch_size=1024)"
   ]
  },
  {
   "cell_type": "code",
   "execution_count": 25,
   "metadata": {},
   "outputs": [
    {
     "name": "stdout",
     "output_type": "stream",
     "text": [
      "torch.Size([1024, 7]) torch.Size([1024])\n"
     ]
    }
   ],
   "source": [
    "for X, Y in train_loader:\n",
    "    print(X.shape, Y.shape)\n",
    "    break"
   ]
  },
  {
   "cell_type": "code",
   "execution_count": 29,
   "metadata": {},
   "outputs": [],
   "source": [
    "target_classes = [\"Мир\", \"Экономика\", \"Спорт\", \"Культура\", \"Интернет и СМИ\", \"Наука и техника\"]\n",
    "max_words = 7"
   ]
  },
  {
   "cell_type": "code",
   "execution_count": 26,
   "metadata": {},
   "outputs": [],
   "source": [
    "embed_len = 50\n",
    "hidden_dim = 75\n",
    "n_layers=1\n",
    "\n",
    "class LSTMClassifier(nn.Module):\n",
    "    def __init__(self):\n",
    "        super(LSTMClassifier, self).__init__()\n",
    "        self.embedding_layer = nn.Embedding(num_embeddings=len(features), embedding_dim=embed_len)\n",
    "        self.lstm = nn.LSTM(input_size=embed_len, hidden_size=hidden_dim, num_layers=n_layers, batch_first=True)\n",
    "        self.linear = nn.Linear(hidden_dim, len(target_classes))\n",
    "\n",
    "    def forward(self, X_batch):\n",
    "        embeddings = self.embedding_layer(X_batch)\n",
    "        hidden, carry = torch.randn(n_layers, len(X_batch), hidden_dim), torch.randn(n_layers, len(X_batch), hidden_dim)\n",
    "        output, (hidden, carry) = self.lstm(embeddings, (hidden, carry))\n",
    "        return self.linear(output[:,-1])"
   ]
  },
  {
   "cell_type": "code",
   "execution_count": 27,
   "metadata": {},
   "outputs": [],
   "source": [
    "device = 'cuda' if torch.cuda.is_available() else 'cpu'"
   ]
  },
  {
   "cell_type": "code",
   "execution_count": 30,
   "metadata": {},
   "outputs": [
    {
     "data": {
      "text/plain": [
       "LSTMClassifier(\n",
       "  (embedding_layer): Embedding(432158, 50)\n",
       "  (lstm): LSTM(50, 75, batch_first=True)\n",
       "  (linear): Linear(in_features=75, out_features=6, bias=True)\n",
       ")"
      ]
     },
     "execution_count": 30,
     "metadata": {},
     "output_type": "execute_result"
    }
   ],
   "source": [
    "lstm_classifier = LSTMClassifier()\n",
    "lstm_classifier"
   ]
  },
  {
   "cell_type": "code",
   "execution_count": 31,
   "metadata": {},
   "outputs": [
    {
     "name": "stdout",
     "output_type": "stream",
     "text": [
      "Layer : Embedding(432158, 50)\n",
      "Parameters : \n",
      "torch.Size([432158, 50])\n",
      "\n",
      "Layer : LSTM(50, 75, batch_first=True)\n",
      "Parameters : \n",
      "torch.Size([300, 50])\n",
      "torch.Size([300, 75])\n",
      "torch.Size([300])\n",
      "torch.Size([300])\n",
      "\n",
      "Layer : Linear(in_features=75, out_features=6, bias=True)\n",
      "Parameters : \n",
      "torch.Size([6, 75])\n",
      "torch.Size([6])\n",
      "\n"
     ]
    }
   ],
   "source": [
    "for layer in lstm_classifier.children():\n",
    "    print(\"Layer : {}\".format(layer))\n",
    "    print(\"Parameters : \")\n",
    "    for param in layer.parameters():\n",
    "        print(param.shape)\n",
    "    print()"
   ]
  },
  {
   "cell_type": "code",
   "execution_count": 32,
   "metadata": {},
   "outputs": [
    {
     "data": {
      "text/plain": [
       "torch.Size([1024, 6])"
      ]
     },
     "execution_count": 32,
     "metadata": {},
     "output_type": "execute_result"
    }
   ],
   "source": [
    "out = lstm_classifier(torch.randint(0, len(features), (1024, max_words)))\n",
    "out.shape"
   ]
  },
  {
   "cell_type": "code",
   "execution_count": 33,
   "metadata": {},
   "outputs": [],
   "source": [
    "def CalcValLossAndAccuracy(model, loss_fn, val_loader):\n",
    "    with torch.no_grad():\n",
    "        Y_shuffled, Y_preds, losses = [],[],[]\n",
    "        for X, Y in val_loader:\n",
    "            preds = model(X)\n",
    "            loss = loss_fn(preds, Y)\n",
    "            losses.append(loss.item())\n",
    "\n",
    "            Y_shuffled.append(Y)\n",
    "            Y_preds.append(preds.argmax(dim=-1))\n",
    "\n",
    "        Y_shuffled = torch.cat(Y_shuffled)\n",
    "        Y_preds = torch.cat(Y_preds)\n",
    "\n",
    "        print(\"Valid Loss : {:.3f}\".format(torch.tensor(losses).mean()))\n",
    "        print(\"Valid Acc  : {:.3f}\".format(accuracy_score(Y_shuffled.detach().numpy(), Y_preds.detach().numpy())))\n",
    "\n",
    "\n",
    "def TrainModel(model, loss_fn, optimizer, train_loader, val_loader, epochs=10):\n",
    "    for i in range(1, epochs+1):\n",
    "        losses = []\n",
    "        for X, Y in tqdm(train_loader):\n",
    "            Y_preds = model(X) # Predictions\n",
    "\n",
    "            loss = loss_fn(Y_preds, Y) # Loss\n",
    "            losses.append(loss.item())\n",
    "\n",
    "            optimizer.zero_grad() # Clear gradients\n",
    "            loss.backward() # Calculates Gradients\n",
    "            optimizer.step() # Update network weights.\n",
    "\n",
    "        print(\"Train Loss : {:.3f}\".format(torch.tensor(losses).mean()))\n",
    "        CalcValLossAndAccuracy(model, loss_fn, val_loader)"
   ]
  },
  {
   "cell_type": "code",
   "execution_count": 34,
   "metadata": {},
   "outputs": [
    {
     "name": "stderr",
     "output_type": "stream",
     "text": [
      "100%|██████████| 338/338 [01:00<00:00,  5.57it/s]\n"
     ]
    },
    {
     "name": "stdout",
     "output_type": "stream",
     "text": [
      "Train Loss : 1.380\n",
      "Valid Loss : 1.040\n",
      "Valid Acc  : 0.627\n"
     ]
    },
    {
     "name": "stderr",
     "output_type": "stream",
     "text": [
      "100%|██████████| 338/338 [00:59<00:00,  5.66it/s]\n"
     ]
    },
    {
     "name": "stdout",
     "output_type": "stream",
     "text": [
      "Train Loss : 0.849\n",
      "Valid Loss : 0.748\n",
      "Valid Acc  : 0.745\n"
     ]
    },
    {
     "name": "stderr",
     "output_type": "stream",
     "text": [
      "100%|██████████| 338/338 [00:58<00:00,  5.79it/s]\n"
     ]
    },
    {
     "name": "stdout",
     "output_type": "stream",
     "text": [
      "Train Loss : 0.619\n",
      "Valid Loss : 0.621\n",
      "Valid Acc  : 0.792\n"
     ]
    },
    {
     "name": "stderr",
     "output_type": "stream",
     "text": [
      "100%|██████████| 338/338 [00:57<00:00,  5.87it/s]\n"
     ]
    },
    {
     "name": "stdout",
     "output_type": "stream",
     "text": [
      "Train Loss : 0.495\n",
      "Valid Loss : 0.557\n",
      "Valid Acc  : 0.816\n"
     ]
    },
    {
     "name": "stderr",
     "output_type": "stream",
     "text": [
      "100%|██████████| 338/338 [00:59<00:00,  5.73it/s]\n"
     ]
    },
    {
     "name": "stdout",
     "output_type": "stream",
     "text": [
      "Train Loss : 0.414\n",
      "Valid Loss : 0.520\n",
      "Valid Acc  : 0.829\n"
     ]
    },
    {
     "name": "stderr",
     "output_type": "stream",
     "text": [
      "100%|██████████| 338/338 [00:59<00:00,  5.67it/s]\n"
     ]
    },
    {
     "name": "stdout",
     "output_type": "stream",
     "text": [
      "Train Loss : 0.353\n",
      "Valid Loss : 0.499\n",
      "Valid Acc  : 0.838\n"
     ]
    },
    {
     "name": "stderr",
     "output_type": "stream",
     "text": [
      "100%|██████████| 338/338 [01:01<00:00,  5.50it/s]\n"
     ]
    },
    {
     "name": "stdout",
     "output_type": "stream",
     "text": [
      "Train Loss : 0.303\n",
      "Valid Loss : 0.486\n",
      "Valid Acc  : 0.844\n"
     ]
    },
    {
     "name": "stderr",
     "output_type": "stream",
     "text": [
      "100%|██████████| 338/338 [01:03<00:00,  5.32it/s]\n"
     ]
    },
    {
     "name": "stdout",
     "output_type": "stream",
     "text": [
      "Train Loss : 0.263\n",
      "Valid Loss : 0.485\n",
      "Valid Acc  : 0.845\n"
     ]
    },
    {
     "name": "stderr",
     "output_type": "stream",
     "text": [
      "100%|██████████| 338/338 [00:59<00:00,  5.72it/s]\n"
     ]
    },
    {
     "name": "stdout",
     "output_type": "stream",
     "text": [
      "Train Loss : 0.228\n",
      "Valid Loss : 0.490\n",
      "Valid Acc  : 0.848\n"
     ]
    },
    {
     "name": "stderr",
     "output_type": "stream",
     "text": [
      "100%|██████████| 338/338 [00:58<00:00,  5.76it/s]\n"
     ]
    },
    {
     "name": "stdout",
     "output_type": "stream",
     "text": [
      "Train Loss : 0.199\n",
      "Valid Loss : 0.499\n",
      "Valid Acc  : 0.849\n"
     ]
    },
    {
     "name": "stderr",
     "output_type": "stream",
     "text": [
      "100%|██████████| 338/338 [00:58<00:00,  5.80it/s]\n"
     ]
    },
    {
     "name": "stdout",
     "output_type": "stream",
     "text": [
      "Train Loss : 0.172\n",
      "Valid Loss : 0.511\n",
      "Valid Acc  : 0.848\n"
     ]
    },
    {
     "name": "stderr",
     "output_type": "stream",
     "text": [
      "100%|██████████| 338/338 [00:58<00:00,  5.81it/s]\n"
     ]
    },
    {
     "name": "stdout",
     "output_type": "stream",
     "text": [
      "Train Loss : 0.148\n",
      "Valid Loss : 0.532\n",
      "Valid Acc  : 0.847\n"
     ]
    },
    {
     "name": "stderr",
     "output_type": "stream",
     "text": [
      "100%|██████████| 338/338 [00:58<00:00,  5.77it/s]\n"
     ]
    },
    {
     "name": "stdout",
     "output_type": "stream",
     "text": [
      "Train Loss : 0.128\n",
      "Valid Loss : 0.556\n",
      "Valid Acc  : 0.847\n"
     ]
    }
   ],
   "source": [
    "epochs = 13\n",
    "learning_rate = 1e-3\n",
    "\n",
    "loss_fn = nn.CrossEntropyLoss()\n",
    "lstm_classifier = LSTMClassifier()\n",
    "optimizer = Adam(lstm_classifier.parameters(), lr=learning_rate)\n",
    "\n",
    "TrainModel(lstm_classifier, loss_fn, optimizer, train_loader, test_loader, epochs)"
   ]
  },
  {
   "cell_type": "code",
   "execution_count": 35,
   "metadata": {},
   "outputs": [],
   "source": [
    "# Функция метрик\n",
    "def MakePredictions(model, loader):\n",
    "    Y_shuffled, Y_preds = [], []\n",
    "    for X, Y in loader:\n",
    "        preds = model(X)\n",
    "        Y_preds.append(preds)\n",
    "        Y_shuffled.append(Y)\n",
    "    gc.collect()\n",
    "    Y_preds, Y_shuffled = torch.cat(Y_preds), torch.cat(Y_shuffled)\n",
    "\n",
    "    return Y_shuffled.detach().numpy(), F.softmax(Y_preds, dim=-1).argmax(dim=-1).detach().numpy()\n",
    "\n",
    "Y_actual, Y_preds = MakePredictions(lstm_classifier, test_loader)"
   ]
  },
  {
   "cell_type": "code",
   "execution_count": 37,
   "metadata": {},
   "outputs": [
    {
     "name": "stdout",
     "output_type": "stream",
     "text": [
      "Test Accuracy : 0.8481118104405776\n",
      "\n",
      "Classification Report : \n",
      "                 precision    recall  f1-score   support\n",
      "\n",
      "            Мир       0.72      0.68      0.70      4397\n",
      "      Экономика       0.84      0.82      0.83      5464\n",
      "          Спорт       0.87      0.88      0.88     13614\n",
      "       Культура       0.79      0.78      0.79      5321\n",
      " Интернет и СМИ       0.94      0.93      0.94      6431\n",
      "Наука и техника       0.85      0.87      0.86      7989\n",
      "\n",
      "       accuracy                           0.85     43216\n",
      "      macro avg       0.83      0.83      0.83     43216\n",
      "   weighted avg       0.85      0.85      0.85     43216\n",
      "\n"
     ]
    }
   ],
   "source": [
    "print(\"Test Accuracy : {}\".format(accuracy_score(Y_actual, Y_preds)))\n",
    "print(\"\\nClassification Report : \")\n",
    "print(classification_report(Y_actual, Y_preds, target_names=target_classes))"
   ]
  }
 ],
 "metadata": {
  "kernelspec": {
   "display_name": "Python 3.9.0 ('aa')",
   "language": "python",
   "name": "python3"
  },
  "language_info": {
   "codemirror_mode": {
    "name": "ipython",
    "version": 3
   },
   "file_extension": ".py",
   "mimetype": "text/x-python",
   "name": "python",
   "nbconvert_exporter": "python",
   "pygments_lexer": "ipython3",
   "version": "3.9.0"
  },
  "orig_nbformat": 4,
  "vscode": {
   "interpreter": {
    "hash": "930b67c35b4c6d30ce018e961ff12d868ff1dfdffa0e6307ef9511d8cca31667"
   }
  }
 },
 "nbformat": 4,
 "nbformat_minor": 2
}
